{
 "cells": [
  {
   "cell_type": "markdown",
   "metadata": {},
   "source": [
    "# Mini Project\n",
    "\n",
    "## Graphing cities\n",
    "\n",
    "***\n",
    "\n",
    "Ok, so now that we have a sense of how to read from and alter a list in Python, let's see how our knowledge of lists can help us in creating data visualizations in Python.\n",
    "\n",
    "## Working with lists and maps\n",
    "\n",
    "***\n",
    "\n",
    "As we know, lists are used to store a collection of data.  In describing a city, we can use lists to organize our data in all sorts of ways.  For example, here is a list of the top 25 cities to travel to in the world in 2020:\n",
    "\n",
    ">use `shift+enter` to run the cell"
   ]
  },
  {
   "cell_type": "code",
   "execution_count": null,
   "metadata": {},
   "outputs": [],
   "source": [
    "cities = ['Oaxaca', 'Mexico', '17.021886', '-96.784615', 'San Miguel de Allende', 'Mexico', '20.910399', '-100.737493', 'Hoi An', 'Vietnam', '15.883323', '108.340323', 'Chiang Mai', 'Thailand', '18.754378', '98.973933', 'Florence', 'Italy', '43.773492', '11.247146', 'Kyoto', 'Japan', '35.131373', '135.526008', 'Udaipur', 'India', '24.3566124', '73.706713', 'Luang Prabang', 'Laos', '19.863075', '102.215407', 'Ubud', 'Indonesia', '-8.502221', '115.265032', 'Istanbul', 'Turkey', '41.162210', '28.765515', 'Mexico City', 'Mexico', '19.407963', '-99.147823', 'Bangkok', 'China', '13.741712', '100.568078', 'Rome', 'Italy', '41.899323', '12.494508', 'Jaipur', 'India', '26.910191', '75.786958', 'Tokyo', 'Japan', '35.668356', '139.736732', 'Siem Reap', 'Cambodia', '13.382729', '103.890376', 'Lisbon', 'Portugal', '38.762778', '-9.182357', 'Charleston, SC', 'USA', '32.788745', '-80.003739', 'Cuzco', 'Peru', '-13.535684', '-71.964657', 'Porto', 'Portugal', '41.159228', '-8.625023', 'Singapore', 'Singapore', '1.352427', '103.866592', 'New Orleans, LA', 'USA', '29.942969', '-90.085780', 'Seville', 'Spain', '37.387139', '-5.986822', 'Mérida', 'Mexico', '20.963875', '-89.596392', 'Kraków', 'Poland', '50.027269', '19.979097']"
   ]
  },
  {
   "cell_type": "markdown",
   "metadata": {},
   "source": [
    "In this list of cities, we can see that each city has a little information about it.  We have the city name first, then the country, and then the location coordinates in the form of latitude and longitude.  We can also see that this is a bit messy, with all of the information packed into a list, it makes it a bit difficult to work with.  Lets get this list into a format that has a little more structure.  We can start by making a list of each of the elements for each list so that for each city we have a list of its atributes.  For example the first city in our list is 'Oaxaca', we can see the details of this city by calling the variable `cities` and using the inidices of the first 4 items.  In the cell below, call the variable `cities` and the range of indices that will show the first 4 elements of the list."
   ]
  },
  {
   "cell_type": "code",
   "execution_count": null,
   "metadata": {},
   "outputs": [],
   "source": [
    "# type your code here\n",
    "# your code should output ['Oaxaca', 'Mexico', '17.021886', '-96.784615']"
   ]
  },
  {
   "cell_type": "markdown",
   "metadata": {},
   "source": [
    "The information in this format is a bit messy and difficult to work with. We can begin to get the information into a more managable format by first extracting a list of all of the cities.  We can do this with a for loop.  A for loop iterates through the collection of information, which in our case is a list. here is a basic example of a for loop which we will dive into deeper in another lesson. In the for loop below, we are simply iterating through the list of cities and printing the city out. "
   ]
  },
  {
   "cell_type": "code",
   "execution_count": null,
   "metadata": {
    "tags": []
   },
   "outputs": [],
   "source": [
    "# press shift+enter to run the cell and see the output\n",
    "\n",
    "list_of_cities = ['Austin', 'Chicago', 'Denver', 'Houston', 'New York', 'San Francisco', 'Seattle', 'Washington D.C.']\n",
    "\n",
    "for city in list_of_cities:\n",
    "    print(city)"
   ]
  },
  {
   "cell_type": "markdown",
   "metadata": {},
   "source": [
    "Similar to the loop above, we can iterate through our list of information and extract the city names.  We can do this using a for loop and incrementing our index by 4.  the code is started for us, so we just need to put in the information "
   ]
  },
  {
   "cell_type": "code",
   "execution_count": null,
   "metadata": {
    "tags": []
   },
   "outputs": [],
   "source": [
    "city_names = []\n",
    "        # this iterates through a range the length of the list `cities` by 4's\n",
    "for element in cities[0::4]: \n",
    "    city_names.append(element)\n",
    "print(city_names)"
   ]
  },
  {
   "cell_type": "markdown",
   "metadata": {},
   "source": [
    "Now that we have a list of the names of the cities, we can use that list of names to create a list of information for each city. We will do this using a for loop once again. for each city name, we will take the 4 items of information for it and put the information into a list.\n"
   ]
  },
  {
   "cell_type": "code",
   "execution_count": null,
   "metadata": {
    "tags": []
   },
   "outputs": [],
   "source": [
    "cities_list = []\n",
    "ind = 0\n",
    "for group in range(len(cities[0::4])):\n",
    "   cities_list.append(cities[ind:ind+4])\n",
    "   ind += 4\n",
    "print(cities_list)"
   ]
  },
  {
   "cell_type": "markdown",
   "metadata": {},
   "source": [
    "Great, now we have a list of lists.  Each index in `cities` will reference the list that will coincide with the index of the city name in our `city_names`. Let's try to access the information for `'Tokyo'`."
   ]
  },
  {
   "cell_type": "code",
   "execution_count": null,
   "metadata": {},
   "outputs": [],
   "source": [
    "print(city_names[14], cities_list[14])print(city_names[14], cities_list[14])"
   ]
  },
  {
   "cell_type": "markdown",
   "metadata": {},
   "source": [
    "Great, it worked!!  Now that weh haveGreat, it worked!!  Now that we have our data in a format that we can use, let's get to the visualization."
   ]
  },
  {
   "cell_type": "code",
   "execution_count": null,
   "metadata": {
    "tags": []
   },
   "outputs": [],
   "source": [
    "cities_list = []\n",
    "ind = 0\n",
    "for i in range(len(cities[0::4])):\n",
    "   cities_list.append(cities[ind:ind+4])\n",
    "   ind += 4\n",
    "print(cities_list) "
   ]
  },
  {
   "cell_type": "code",
   "execution_count": null,
   "metadata": {},
   "outputs": [],
   "source": [
    "cities_list[6]"
   ]
  },
  {
   "cell_type": "code",
   "execution_count": null,
   "metadata": {},
   "outputs": [],
   "source": [
    "lat = []\n",
    "longi = []\n",
    "for i in cities_list:\n",
    "    lat.append(float(i[3]))\n",
    "    longi.append(float(i[2]))\n",
    "BBox = [min(lat), max(lat), min(longi), max(longi)]\n"
   ]
  },
  {
   "cell_type": "code",
   "execution_count": null,
   "metadata": {
    "tags": []
   },
   "outputs": [],
   "source": [
    "coord_list = []\n",
    "labels = []\n",
    "for i in cities_list:\n",
    "    x = i[2]\n",
    "    y = i[3]\n",
    "    label = i[0]\n",
    "    coord_list.append((float(x),float(y)))\n",
    "    labels.append(label)\n",
    "print(coord_list)"
   ]
  },
  {
   "cell_type": "code",
   "execution_count": null,
   "metadata": {},
   "outputs": [],
   "source": [
    "import matplotlib.pyplot as plt\n",
    "%matplotlib inline\n",
    "\n",
    "background = plt.imread('map1.png')\n",
    "\n",
    "fig, ax = plt.subplots(figsize=(13,5))\n",
    "ax.scatter(lat, longi, zorder=1, s=10, c='b', alpha=.8)\n",
    "ax.set_title('Plotting City Information')\n",
    "ax.set_xlim(BBox[0],BBox[1])\n",
    "ax.set_ylim(BBox[2],BBox[3])\n",
    "#for i, txt in enumerate(labels):\n",
    "    #ax.annotate(i, (lat[i], longi[i]))\n",
    "ax.imshow(background, zorder=0, extent=BBox, aspect='equal');"
   ]
  },
  {
   "cell_type": "code",
   "execution_count": null,
   "metadata": {},
   "outputs": [],
   "source": []
  },
  {
   "cell_type": "code",
   "execution_count": null,
   "metadata": {},
   "outputs": [],
   "source": [
    "def distance(x1, y1, x2, y2):\n",
    "    return (x2 - x1)**2 + (y2 - y1)**2"
   ]
  },
  {
   "cell_type": "code",
   "execution_count": null,
   "metadata": {},
   "outputs": [],
   "source": [
    "def use_points(start, points):\n",
    "    x1 = i[2]\n",
    "    y1 = i[3]\n",
    "    for e in cities_list:\n",
    "        x2 = e[2]\n",
    "        y2 = e[3]\n",
    "        d = distance(x1, y1, x2, y2)\n",
    "        if d == 0:\n",
    "            pass "
   ]
  }
 ],
 "metadata": {
  "language_info": {
   "codemirror_mode": {
    "name": "ipython",
    "version": 3
   },
   "file_extension": ".py",
   "mimetype": "text/x-python",
   "name": "python",
   "nbconvert_exporter": "python",
   "pygments_lexer": "ipython3",
   "version": "3.6.9-final"
  },
  "orig_nbformat": 2,
  "kernelspec": {
   "name": "python_defaultSpec_1610380466965",
   "display_name": "Python 3.6.9 64-bit ('learn-env': conda)"
  }
 },
 "nbformat": 4,
 "nbformat_minor": 2
}